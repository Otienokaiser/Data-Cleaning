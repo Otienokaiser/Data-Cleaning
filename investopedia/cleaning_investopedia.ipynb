{
 "cells": [
  {
   "cell_type": "code",
   "execution_count": 3,
   "metadata": {},
   "outputs": [],
   "source": [
    "import pandas as pd\n",
    "import numpy as np"
   ]
  },
  {
   "cell_type": "code",
   "execution_count": 4,
   "metadata": {},
   "outputs": [],
   "source": [
    "df = pd.read_csv('investopedia_data.csv')"
   ]
  },
  {
   "cell_type": "code",
   "execution_count": 13,
   "metadata": {},
   "outputs": [
    {
     "data": {
      "application/vnd.microsoft.datawrangler.viewer.v0+json": {
       "columns": [
        {
         "name": "index",
         "rawType": "int64",
         "type": "integer"
        },
        {
         "name": "unnamed: 0",
         "rawType": "int64",
         "type": "integer"
        },
        {
         "name": "title",
         "rawType": "object",
         "type": "string"
        },
        {
         "name": "link",
         "rawType": "object",
         "type": "string"
        },
        {
         "name": "main_title",
         "rawType": "object",
         "type": "string"
        },
        {
         "name": "question",
         "rawType": "object",
         "type": "string"
        }
       ],
       "conversionMethod": "pd.DataFrame",
       "ref": "91c48d64-84e4-46eb-abb5-b1356011e64e",
       "rows": [
        [
         "0",
         "0",
         "J",
         "https://www.investopedia.com/terms/j/j.asp",
         "J: What This Nasdaq Designation Means",
         " What Is J? "
        ],
        [
         "1",
         "1",
         "J-Curve",
         "https://www.investopedia.com/terms/j/jcurve.asp",
         "J Curve: Theory, Uses, and Example",
         " What Is a J Curve? "
        ],
        [
         "2",
         "2",
         "J-Curve Effect",
         "https://www.investopedia.com/terms/j/j-curve-effect.asp",
         "J Curve: Definition and Uses in Economics and Private Equity",
         " What Is a J-Curve? "
        ],
        [
         "3",
         "3",
         "Jack Welch",
         "https://www.investopedia.com/terms/j/jack-welch.asp",
         "Who Is Jack Welch?",
         " Early Life and Education "
        ],
        [
         "4",
         "4",
         "Jackpot",
         "https://www.investopedia.com/terms/j/jackpot.asp",
         "Jackpot: What It Is, How It Works, Consequences",
         " What Is a Jackpot? "
        ],
        [
         "5",
         "5",
         "Jackson Hole Economic Symposium",
         "https://www.investopedia.com/terms/j/jackson-hole-symposium.asp",
         "Jackson Hole Economic Symposium Definition and Why Is It Important",
         " What Is the Jackson Hole Economic Symposium? "
        ],
        [
         "6",
         "6",
         "Jakarta Stock Exchange",
         "https://www.investopedia.com/terms/j/jakartastockexchange.asp",
         "Indonesia Stock Exchange (IDX): What It Is, How It Works",
         " What Is the Indonesia Stock Exchange (IDX)? "
        ],
        [
         "7",
         "7",
         "James H. Clark",
         "https://www.investopedia.com/terms/j/james-h-clark.asp",
         "James H. Clark: Education, Accomplishments, Philanthropy",
         " Early Life and Education "
        ],
        [
         "8",
         "8",
         "James M. Buchanan Jr.",
         "https://www.investopedia.com/terms/j/james-m-buchanan-jr.asp",
         "James M. Buchanan: Early Life, Education, Works",
         " Early Life and Education "
        ],
        [
         "9",
         "9",
         "James Tobin",
         "https://www.investopedia.com/terms/j/james-tobin.asp",
         "James Tobin: Early Life, Public Service, Work",
         " Early Life and Education "
        ],
        [
         "10",
         "10",
         "Jan Tinbergen",
         "https://www.investopedia.com/terms/j/jan-tinbergen.asp",
         "Jan Tinbergen: Early Life, Education, Accomplishments",
         " Early Life and Education "
        ],
        [
         "11",
         "11",
         "January Barometer",
         "https://www.investopedia.com/terms/j/januarybarometer.asp",
         "January Barometer: What It Is, How It Works, Example",
         " What Is the January Barometer? "
        ],
        [
         "12",
         "12",
         "January Effect",
         "https://www.investopedia.com/terms/j/januaryeffect.asp",
         "January Effect: What It Is in the Stock Market, Possible Causes",
         " Understanding the January Effect "
        ],
        [
         "13",
         "13",
         "Japan Association of Securities Dealers Automated Quotation",
         "https://www.investopedia.com/terms/j/jasdaq.asp",
         "Japan Association of Securities Dealers Automated Quotation (Jasdaq) Defined",
         " What Was the Japan Association of Securities Dealers Automated Quotation (Jasdaq)? "
        ],
        [
         "14",
         "14",
         "Japan Credit Rating Agency (JCR)",
         "https://www.investopedia.com/terms/j/japan-credit-rating-agency.asp",
         "Japan Credit Rating Agency (JCR): Meaning, Responsibilites",
         " What Is the Japan Credit Rating Agency (JCR) "
        ],
        [
         "15",
         "15",
         "Japan ETF",
         "https://www.investopedia.com/terms/j/japan_etf.asp",
         "Japan ETF Definition",
         " What Is a Japan ETF? "
        ],
        [
         "16",
         "16",
         "Japan Inc.",
         "https://www.investopedia.com/terms/j/japaninc.asp",
         "Japan Inc.: What It is, How It Works, History",
         " What Is Japan Inc.? "
        ],
        [
         "17",
         "17",
         "Japanese Government Bond (JGB)",
         "https://www.investopedia.com/terms/j/jgb.asp",
         "Japanese Government Bond (JGB): Overview, Examples in Bonds",
         " What Is a Japanese Government Bond (JGB)? "
        ],
        [
         "19",
         "19",
         "Japanese Yen (JPY)",
         "https://www.investopedia.com/terms/forex/j/jpy-japanese-yen.asp",
         "JPY (Japanese Yen): Definition, Symbol, History, Trading",
         " What Is JPY (Japanese Yen)? "
        ],
        [
         "20",
         "20",
         "Jarrow Turnbull Model",
         "https://www.investopedia.com/terms/j/jarrowturnbull.asp",
         "Jarrow Turnbull Model: What It Is, How It Works",
         " What Is the Jarrow Turnbull Model? "
        ],
        [
         "21",
         "21",
         "Jay-Z",
         "https://www.investopedia.com/articles/investing/012715/5-richest-people-world.asp",
         "The 10 Richest People in the World",
         " 1. Elon Musk "
        ],
        [
         "22",
         "22",
         "Jean-Baptiste Say",
         "https://www.investopedia.com/terms/j/jean-baptiste-say.asp",
         "Jean-Baptiste Say: History of the Economist",
         " Early Life and Education "
        ],
        [
         "23",
         "23",
         "Jekyll and Hyde",
         "https://www.investopedia.com/terms/j/jekyllhyde.asp",
         "Jekyll and Hyde",
         " What Is Jekyll and Hyde? "
        ],
        [
         "24",
         "24",
         "Jensen's Measure",
         "https://www.investopedia.com/terms/j/jensensmeasure.asp",
         "What Is Jensen's Measure (Alpha), and How Is It Calculated?",
         " What Is the Jensen's Measure? "
        ],
        [
         "25",
         "25",
         "Jerome Kerviel",
         "https://www.investopedia.com/terms/j/jerome-kerveil.asp",
         "Jerome Kerviel: History and Work With Derivatives",
         " Who Is Jerome Kerviel? "
        ],
        [
         "26",
         "26",
         "Jerry A. Hausman",
         "https://www.investopedia.com/terms/j/jerry-a-hausman.asp",
         "Jerry A. Hausman",
         " Who is Jerry A. Hausman? "
        ],
        [
         "27",
         "27",
         "Jesse H. Jones Graduate School Of Business",
         "https://www.investopedia.com/terms/j/jesse-h-jones-graduate-school-of-business-rice-university.asp",
         "Jesse H. Jones Graduate School of Business",
         " What Is the Jesse H. Jones Graduate School of Business? "
        ],
        [
         "28",
         "28",
         "Jesse L. Livermore",
         "https://www.investopedia.com/terms/j/jesse-l-livermore.asp",
         "Jesse L. Livermore: Education, Stock Trading, Nickname",
         " Early Life and Education "
        ],
        [
         "29",
         "29",
         "Jewelry Floater",
         "https://www.investopedia.com/terms/j/jewelry-floater.asp",
         "Jewelry Floater: What Is It, and How Does It Work With Insurance?",
         " What Is a Jewelry Floater? "
        ],
        [
         "30",
         "30",
         "Jim Cramer (James Cramer)",
         "https://www.investopedia.com/articles/personal-finance/081315/jim-cramer-success-story-net-worth-education-top-quotes.asp",
         "Who Is Jim Cramer?",
         " Early Life and Education "
        ],
        [
         "31",
         "31",
         "Jim Walton",
         "https://www.investopedia.com/terms/j/jim-walton.asp",
         "Jim Walton: Early Life And Education, Walmart, Philanthropy",
         " Early Life and Education "
        ],
        [
         "32",
         "32",
         "Jitney",
         "https://www.investopedia.com/terms/j/jitney.asp",
         "Jitney: What It is, How It Works, Example",
         " What Is a Jitney? "
        ],
        [
         "33",
         "33",
         "Jitter",
         "https://www.investopedia.com/terms/j/jitter.asp",
         "Jitter",
         " What is Jitter "
        ],
        [
         "34",
         "34",
         "JMD (Jamaican Dollar)",
         "https://www.investopedia.com/terms/forex/j/jmd-jamaican-dollar.asp",
         "JMD (Jamaican Dollar): What it is, How it Works, History",
         " What Is JMD (Jamaican Dollar)? "
        ],
        [
         "36",
         "36",
         "Job Lot",
         "https://www.investopedia.com/terms/j/joblot.asp",
         "Job Lot",
         " What Is a Job Lot? "
        ],
        [
         "37",
         "37",
         "Job Market",
         "https://www.investopedia.com/terms/j/job-market.asp",
         "Job Market: Definition, Measurement, Example",
         " What Is the Job Market? "
        ],
        [
         "38",
         "38",
         "Job Openings and Labor Turnover Survey (JOLTS)",
         "https://www.investopedia.com/terms/j/jolts.asp",
         "Job Openings and Labor Turnover Survey (JOLTS): Meaning, Overview",
         " What Is the Job Openings and Labor Turnover Survey (JOLTS)? "
        ],
        [
         "39",
         "39",
         "Jobber",
         "https://www.investopedia.com/terms/j/jobber.asp",
         "Jobber: Definition, Role and History of Stockjobbing",
         " What Is a Jobber? "
        ],
        [
         "40",
         "40",
         "Jobless Claims",
         "https://www.investopedia.com/terms/j/jobless-claims.asp",
         "Jobless Claims and the Market: Why They Matter",
         " What Are Jobless Claims? "
        ],
        [
         "41",
         "41",
         "Jobless Recovery",
         "https://www.investopedia.com/terms/j/jobless-recovery.asp",
         "Jobless Recovery: What It Is, How It Works, Example",
         " What Is Jobless Recovery? "
        ],
        [
         "42",
         "42",
         "Jobs and Growth Tax Relief Reconciliation Act of 2003 (JGTRRA)",
         "https://www.investopedia.com/terms/j/jgtrra.asp",
         "Jobs And Growth Tax Relief Reconciliation Act of 2003 (JGTRRA): Overview",
         " What Is JGTRRA? "
        ],
        [
         "43",
         "43",
         "Jobs Growth",
         "https://www.investopedia.com/terms/j/jobsgrowth.asp",
         "Jobs Growth: Overview and Applications",
         " What Is Jobs Growth? "
        ],
        [
         "44",
         "44",
         "Jobseeker's Allowance (JSA)",
         "https://www.investopedia.com/terms/j/job-seekers-allowance-jsa.asp",
         "Jobseeker's Allowance (JSA): Meaning, Types, FAQs",
         " What Is the Jobseeker's Allowance? (JSA) "
        ],
        [
         "45",
         "45",
         "Johannesburg Interbank Average Rate (JIBAR)",
         "https://www.investopedia.com/terms/j/jibarrate.asp",
         "Johannesburg Interbank Average Rate (JIBAR) in South Africa",
         " What Is the Johannesburg Interbank Average Rate (JIBAR)? "
        ],
        [
         "46",
         "46",
         "John B. Taylor",
         "https://www.investopedia.com/terms/j/john-b-taylor.asp",
         "John B. Taylor",
         " Who Is John B. Taylor? "
        ],
        [
         "47",
         "47",
         "John Bogle",
         "https://www.investopedia.com/terms/j/john_bogle.asp",
         "Who Was John Bogle? Vanguard Founder, Father of Indexing",
         " Early Life and Education "
        ],
        [
         "48",
         "48",
         "John Elkann",
         "https://www.investopedia.com/terms/j/john-elkann.asp",
         "John Elkann: Early Life and Education, Accomplishments, FAQs",
         " Early Life and Education "
        ],
        [
         "49",
         "49",
         "John F. Nash Jr.",
         "https://www.investopedia.com/terms/j/john-f-nash-jr.asp",
         "John F. Nash Jr.: Education, Accomplishments, Legacy",
         " Early Life and Education "
        ],
        [
         "50",
         "50",
         "John Maynard Keynes",
         "https://www.investopedia.com/terms/j/john_maynard_keynes.asp",
         "Who Was John Maynard Keynes & What Is Keynesian Economics?",
         " Education and Early Career "
        ],
        [
         "51",
         "51",
         "John R. Hicks",
         "https://www.investopedia.com/terms/j/john-r-hicks.asp",
         "John R. Hicks: Early Life, Accomplishments, Legacy",
         " Early Life and Education "
        ]
       ],
       "shape": {
        "columns": 5,
        "rows": 108
       }
      },
      "text/html": [
       "<div>\n",
       "<style scoped>\n",
       "    .dataframe tbody tr th:only-of-type {\n",
       "        vertical-align: middle;\n",
       "    }\n",
       "\n",
       "    .dataframe tbody tr th {\n",
       "        vertical-align: top;\n",
       "    }\n",
       "\n",
       "    .dataframe thead th {\n",
       "        text-align: right;\n",
       "    }\n",
       "</style>\n",
       "<table border=\"1\" class=\"dataframe\">\n",
       "  <thead>\n",
       "    <tr style=\"text-align: right;\">\n",
       "      <th></th>\n",
       "      <th>unnamed: 0</th>\n",
       "      <th>title</th>\n",
       "      <th>link</th>\n",
       "      <th>main_title</th>\n",
       "      <th>question</th>\n",
       "    </tr>\n",
       "  </thead>\n",
       "  <tbody>\n",
       "    <tr>\n",
       "      <th>0</th>\n",
       "      <td>0</td>\n",
       "      <td>J</td>\n",
       "      <td>https://www.investopedia.com/terms/j/j.asp</td>\n",
       "      <td>J: What This Nasdaq Designation Means</td>\n",
       "      <td>What Is J?</td>\n",
       "    </tr>\n",
       "    <tr>\n",
       "      <th>1</th>\n",
       "      <td>1</td>\n",
       "      <td>J-Curve</td>\n",
       "      <td>https://www.investopedia.com/terms/j/jcurve.asp</td>\n",
       "      <td>J Curve: Theory, Uses, and Example</td>\n",
       "      <td>What Is a J Curve?</td>\n",
       "    </tr>\n",
       "    <tr>\n",
       "      <th>2</th>\n",
       "      <td>2</td>\n",
       "      <td>J-Curve Effect</td>\n",
       "      <td>https://www.investopedia.com/terms/j/j-curve-e...</td>\n",
       "      <td>J Curve: Definition and Uses in Economics and ...</td>\n",
       "      <td>What Is a J-Curve?</td>\n",
       "    </tr>\n",
       "    <tr>\n",
       "      <th>3</th>\n",
       "      <td>3</td>\n",
       "      <td>Jack Welch</td>\n",
       "      <td>https://www.investopedia.com/terms/j/jack-welc...</td>\n",
       "      <td>Who Is Jack Welch?</td>\n",
       "      <td>Early Life and Education</td>\n",
       "    </tr>\n",
       "    <tr>\n",
       "      <th>4</th>\n",
       "      <td>4</td>\n",
       "      <td>Jackpot</td>\n",
       "      <td>https://www.investopedia.com/terms/j/jackpot.asp</td>\n",
       "      <td>Jackpot: What It Is, How It Works, Consequences</td>\n",
       "      <td>What Is a Jackpot?</td>\n",
       "    </tr>\n",
       "    <tr>\n",
       "      <th>...</th>\n",
       "      <td>...</td>\n",
       "      <td>...</td>\n",
       "      <td>...</td>\n",
       "      <td>...</td>\n",
       "      <td>...</td>\n",
       "    </tr>\n",
       "    <tr>\n",
       "      <th>105</th>\n",
       "      <td>105</td>\n",
       "      <td>Just Compensation</td>\n",
       "      <td>https://www.investopedia.com/terms/j/just-comp...</td>\n",
       "      <td>Just Compensation: Overview, Factors, Methods</td>\n",
       "      <td>What Is Just Compensation?</td>\n",
       "    </tr>\n",
       "    <tr>\n",
       "      <th>106</th>\n",
       "      <td>106</td>\n",
       "      <td>Just In Case (JIC)</td>\n",
       "      <td>https://www.investopedia.com/terms/j/jic.asp</td>\n",
       "      <td>Just in Case (JIC): What it is, How it Works, ...</td>\n",
       "      <td>What Is Just in Case (JIC)?</td>\n",
       "    </tr>\n",
       "    <tr>\n",
       "      <th>107</th>\n",
       "      <td>107</td>\n",
       "      <td>Just In Time (JIT)</td>\n",
       "      <td>https://www.investopedia.com/terms/j/jit.asp</td>\n",
       "      <td>Just-in-Time (JIT): Definition, Example, Pros,...</td>\n",
       "      <td>What Is Just-in-Time (JIT)?</td>\n",
       "    </tr>\n",
       "    <tr>\n",
       "      <th>108</th>\n",
       "      <td>108</td>\n",
       "      <td>Just Say No Defense</td>\n",
       "      <td>https://www.investopedia.com/terms/j/just-say-...</td>\n",
       "      <td>\"Just Say No\" Defense: Meaning, Example, Criti...</td>\n",
       "      <td>What Is a \"Just Say No\" Defense?</td>\n",
       "    </tr>\n",
       "    <tr>\n",
       "      <th>109</th>\n",
       "      <td>109</td>\n",
       "      <td>Justified Wage</td>\n",
       "      <td>https://www.investopedia.com/terms/j/justified...</td>\n",
       "      <td>Justified Wage: What It Means, How It Works, a...</td>\n",
       "      <td>What Is a Justified Wage?</td>\n",
       "    </tr>\n",
       "  </tbody>\n",
       "</table>\n",
       "<p>108 rows × 5 columns</p>\n",
       "</div>"
      ],
      "text/plain": [
       "     unnamed: 0                title  \\\n",
       "0             0                    J   \n",
       "1             1              J-Curve   \n",
       "2             2       J-Curve Effect   \n",
       "3             3           Jack Welch   \n",
       "4             4              Jackpot   \n",
       "..          ...                  ...   \n",
       "105         105    Just Compensation   \n",
       "106         106   Just In Case (JIC)   \n",
       "107         107   Just In Time (JIT)   \n",
       "108         108  Just Say No Defense   \n",
       "109         109       Justified Wage   \n",
       "\n",
       "                                                  link  \\\n",
       "0           https://www.investopedia.com/terms/j/j.asp   \n",
       "1      https://www.investopedia.com/terms/j/jcurve.asp   \n",
       "2    https://www.investopedia.com/terms/j/j-curve-e...   \n",
       "3    https://www.investopedia.com/terms/j/jack-welc...   \n",
       "4     https://www.investopedia.com/terms/j/jackpot.asp   \n",
       "..                                                 ...   \n",
       "105  https://www.investopedia.com/terms/j/just-comp...   \n",
       "106       https://www.investopedia.com/terms/j/jic.asp   \n",
       "107       https://www.investopedia.com/terms/j/jit.asp   \n",
       "108  https://www.investopedia.com/terms/j/just-say-...   \n",
       "109  https://www.investopedia.com/terms/j/justified...   \n",
       "\n",
       "                                            main_title  \\\n",
       "0                J: What This Nasdaq Designation Means   \n",
       "1                   J Curve: Theory, Uses, and Example   \n",
       "2    J Curve: Definition and Uses in Economics and ...   \n",
       "3                                   Who Is Jack Welch?   \n",
       "4      Jackpot: What It Is, How It Works, Consequences   \n",
       "..                                                 ...   \n",
       "105      Just Compensation: Overview, Factors, Methods   \n",
       "106  Just in Case (JIC): What it is, How it Works, ...   \n",
       "107  Just-in-Time (JIT): Definition, Example, Pros,...   \n",
       "108  \"Just Say No\" Defense: Meaning, Example, Criti...   \n",
       "109  Justified Wage: What It Means, How It Works, a...   \n",
       "\n",
       "                               question  \n",
       "0                           What Is J?   \n",
       "1                   What Is a J Curve?   \n",
       "2                   What Is a J-Curve?   \n",
       "3             Early Life and Education   \n",
       "4                   What Is a Jackpot?   \n",
       "..                                  ...  \n",
       "105         What Is Just Compensation?   \n",
       "106        What Is Just in Case (JIC)?   \n",
       "107        What Is Just-in-Time (JIT)?   \n",
       "108   What Is a \"Just Say No\" Defense?   \n",
       "109          What Is a Justified Wage?   \n",
       "\n",
       "[108 rows x 5 columns]"
      ]
     },
     "execution_count": 13,
     "metadata": {},
     "output_type": "execute_result"
    }
   ],
   "source": [
    "df"
   ]
  },
  {
   "cell_type": "code",
   "execution_count": 7,
   "metadata": {},
   "outputs": [
    {
     "data": {
      "text/plain": [
       "Unnamed: 0    0\n",
       "title         0\n",
       "link          0\n",
       "main_title    0\n",
       "question      0\n",
       "dtype: int64"
      ]
     },
     "execution_count": 7,
     "metadata": {},
     "output_type": "execute_result"
    }
   ],
   "source": [
    "df.isnull().sum()"
   ]
  },
  {
   "cell_type": "code",
   "execution_count": 6,
   "metadata": {},
   "outputs": [],
   "source": [
    "df = df.dropna()"
   ]
  },
  {
   "cell_type": "code",
   "execution_count": 9,
   "metadata": {},
   "outputs": [
    {
     "data": {
      "text/plain": [
       "np.int64(0)"
      ]
     },
     "execution_count": 9,
     "metadata": {},
     "output_type": "execute_result"
    }
   ],
   "source": [
    "df.duplicated().sum()"
   ]
  },
  {
   "cell_type": "code",
   "execution_count": 11,
   "metadata": {},
   "outputs": [
    {
     "data": {
      "text/plain": [
       "Index(['Unnamed: 0', 'title', 'link', 'main_title', 'question'], dtype='object')"
      ]
     },
     "execution_count": 11,
     "metadata": {},
     "output_type": "execute_result"
    }
   ],
   "source": [
    "df.columns"
   ]
  },
  {
   "cell_type": "code",
   "execution_count": 14,
   "metadata": {},
   "outputs": [],
   "source": [
    "df['title'] = df['title'].str.lower()\n",
    "df['main_title'] = df['main_title'].str.lower()\n",
    "df['question'] = df['question'].str.lower()"
   ]
  },
  {
   "cell_type": "code",
   "execution_count": 18,
   "metadata": {},
   "outputs": [],
   "source": [
    "#removing extra white spaces and non alphanumeric characters from selected columns\n",
    "cols = ['title', 'main_title', 'question',]\n",
    "\n",
    "#applying string operations only to columns with string type\n",
    "df[cols] = df[cols].apply(lambda x: x.astype(str).str.replace(r'[^\\w\\s]', ' ', regex=True)  \n",
    "                                          .str.replace(r'\\s+', ' ', regex=True)  \n",
    "                                          .str.strip()) "
   ]
  },
  {
   "cell_type": "code",
   "execution_count": 19,
   "metadata": {},
   "outputs": [],
   "source": [
    "#removing white spaces in the beginning and end of the string\n",
    "cols_2=['link']\n",
    "df[cols_2] = df[cols_2].apply(lambda x: x.str.replace(r'\\s+', ' ', regex=True).str.strip())"
   ]
  },
  {
   "cell_type": "code",
   "execution_count": 22,
   "metadata": {},
   "outputs": [],
   "source": [
    "import urllib.parse\n",
    "\n",
    "# Function to check if the url is valid\n",
    "def is_valid_url(url):\n",
    "    try:\n",
    "        result = urllib.parse.urlparse(url)\n",
    "        return all([result.scheme, result.netloc])\n",
    "    except ValueError:\n",
    "        return False\n",
    "\n",
    "# Apply the URL Validation\n",
    "df['url_valid'] = df['link'].apply(is_valid_url)"
   ]
  },
  {
   "cell_type": "code",
   "execution_count": 25,
   "metadata": {},
   "outputs": [
    {
     "data": {
      "application/vnd.microsoft.datawrangler.viewer.v0+json": {
       "columns": [
        {
         "name": "index",
         "rawType": "int64",
         "type": "integer"
        },
        {
         "name": "title",
         "rawType": "object",
         "type": "string"
        },
        {
         "name": "link",
         "rawType": "object",
         "type": "string"
        },
        {
         "name": "main_title",
         "rawType": "object",
         "type": "string"
        },
        {
         "name": "question",
         "rawType": "object",
         "type": "string"
        },
        {
         "name": "url_valid",
         "rawType": "bool",
         "type": "boolean"
        }
       ],
       "conversionMethod": "pd.DataFrame",
       "ref": "18e99c55-0f94-4c18-8bac-cce62ff75827",
       "rows": [
        [
         "0",
         "j",
         "https://www.investopedia.com/terms/j/j.asp",
         "j what this nasdaq designation means",
         "what is j",
         "True"
        ],
        [
         "1",
         "j curve",
         "https://www.investopedia.com/terms/j/jcurve.asp",
         "j curve theory uses and example",
         "what is a j curve",
         "True"
        ],
        [
         "2",
         "j curve effect",
         "https://www.investopedia.com/terms/j/j-curve-effect.asp",
         "j curve definition and uses in economics and private equity",
         "what is a j curve",
         "True"
        ],
        [
         "3",
         "jack welch",
         "https://www.investopedia.com/terms/j/jack-welch.asp",
         "who is jack welch",
         "early life and education",
         "True"
        ],
        [
         "4",
         "jackpot",
         "https://www.investopedia.com/terms/j/jackpot.asp",
         "jackpot what it is how it works consequences",
         "what is a jackpot",
         "True"
        ],
        [
         "5",
         "jackson hole economic symposium",
         "https://www.investopedia.com/terms/j/jackson-hole-symposium.asp",
         "jackson hole economic symposium definition and why is it important",
         "what is the jackson hole economic symposium",
         "True"
        ],
        [
         "6",
         "jakarta stock exchange",
         "https://www.investopedia.com/terms/j/jakartastockexchange.asp",
         "indonesia stock exchange i dx what it is how it works",
         "what is the indonesia stock exchange i dx",
         "True"
        ],
        [
         "7",
         "james h clark",
         "https://www.investopedia.com/terms/j/james-h-clark.asp",
         "james h clark education accomplishments philanthropy",
         "early life and education",
         "True"
        ],
        [
         "8",
         "james m buchanan jr",
         "https://www.investopedia.com/terms/j/james-m-buchanan-jr.asp",
         "james m buchanan early life education works",
         "early life and education",
         "True"
        ],
        [
         "9",
         "james tobin",
         "https://www.investopedia.com/terms/j/james-tobin.asp",
         "james tobin early life public service work",
         "early life and education",
         "True"
        ],
        [
         "10",
         "jan tinbergen",
         "https://www.investopedia.com/terms/j/jan-tinbergen.asp",
         "jan tinbergen early life education accomplishments",
         "early life and education",
         "True"
        ],
        [
         "11",
         "january barometer",
         "https://www.investopedia.com/terms/j/januarybarometer.asp",
         "january barometer what it is how it works example",
         "what is the january barometer",
         "True"
        ],
        [
         "12",
         "january effect",
         "https://www.investopedia.com/terms/j/januaryeffect.asp",
         "january effect what it is in the stock market possible causes",
         "understanding the january effect",
         "True"
        ],
        [
         "13",
         "japan association of securities dealers automated quotation",
         "https://www.investopedia.com/terms/j/jasdaq.asp",
         "japan association of securities dealers automated quotation j asda q defined",
         "what was the japan association of securities dealers automated quotation j asda q",
         "True"
        ],
        [
         "14",
         "japan credit rating agency j cr",
         "https://www.investopedia.com/terms/j/japan-credit-rating-agency.asp",
         "japan credit rating agency j cr meaning resp on sibi lites",
         "what is the japan credit rating agency j cr",
         "True"
        ],
        [
         "15",
         "japan et f",
         "https://www.investopedia.com/terms/j/japan_etf.asp",
         "japan et f definition",
         "what is a japan et f",
         "True"
        ],
        [
         "16",
         "japan inc",
         "https://www.investopedia.com/terms/j/japaninc.asp",
         "japan inc what it is how it works history",
         "what is japan inc",
         "True"
        ],
        [
         "17",
         "japanese government bond j gb",
         "https://www.investopedia.com/terms/j/jgb.asp",
         "japanese government bond j gb overview examples in bonds",
         "what is a japanese government bond j gb",
         "True"
        ],
        [
         "19",
         "japanese yen jpy",
         "https://www.investopedia.com/terms/forex/j/jpy-japanese-yen.asp",
         "jpy japanese yen definition symbol history trading",
         "what is jpy japanese yen",
         "True"
        ],
        [
         "20",
         "jarrow turnbull model",
         "https://www.investopedia.com/terms/j/jarrowturnbull.asp",
         "jarrow turnbull model what it is how it works",
         "what is the jarrow turnbull model",
         "True"
        ],
        [
         "21",
         "jay z",
         "https://www.investopedia.com/articles/investing/012715/5-richest-people-world.asp",
         "the 10 richest people in the world",
         "1 el on musk",
         "True"
        ],
        [
         "22",
         "jean baptiste say",
         "https://www.investopedia.com/terms/j/jean-baptiste-say.asp",
         "jean baptiste say history of the economist",
         "early life and education",
         "True"
        ],
        [
         "23",
         "jekyll and hyde",
         "https://www.investopedia.com/terms/j/jekyllhyde.asp",
         "jekyll and hyde",
         "what is jekyll and hyde",
         "True"
        ],
        [
         "24",
         "jensen s measure",
         "https://www.investopedia.com/terms/j/jensensmeasure.asp",
         "what is jensen s measure alpha and how is it calculated",
         "what is the jensen s measure",
         "True"
        ],
        [
         "25",
         "jerome ker viel",
         "https://www.investopedia.com/terms/j/jerome-kerveil.asp",
         "jerome ker viel history and work with derivatives",
         "who is jerome ker viel",
         "True"
        ],
        [
         "26",
         "jerry a haus man",
         "https://www.investopedia.com/terms/j/jerry-a-hausman.asp",
         "jerry a haus man",
         "who is jerry a haus man",
         "True"
        ],
        [
         "27",
         "jesse h jones graduate school of business",
         "https://www.investopedia.com/terms/j/jesse-h-jones-graduate-school-of-business-rice-university.asp",
         "jesse h jones graduate school of business",
         "what is the jesse h jones graduate school of business",
         "True"
        ],
        [
         "28",
         "jesse l livermore",
         "https://www.investopedia.com/terms/j/jesse-l-livermore.asp",
         "jesse l livermore education stock trading nickname",
         "early life and education",
         "True"
        ],
        [
         "29",
         "jewelry floater",
         "https://www.investopedia.com/terms/j/jewelry-floater.asp",
         "jewelry floater what is it and how does it work with insurance",
         "what is a jewelry floater",
         "True"
        ],
        [
         "30",
         "jim cramer james cramer",
         "https://www.investopedia.com/articles/personal-finance/081315/jim-cramer-success-story-net-worth-education-top-quotes.asp",
         "who is jim cramer",
         "early life and education",
         "True"
        ],
        [
         "31",
         "jim walton",
         "https://www.investopedia.com/terms/j/jim-walton.asp",
         "jim walton early life and education walmart philanthropy",
         "early life and education",
         "True"
        ],
        [
         "32",
         "jitney",
         "https://www.investopedia.com/terms/j/jitney.asp",
         "jitney what it is how it works example",
         "what is a jitney",
         "True"
        ],
        [
         "33",
         "j it ter",
         "https://www.investopedia.com/terms/j/jitter.asp",
         "j it ter",
         "what is j it ter",
         "True"
        ],
        [
         "34",
         "j md jamaican dollar",
         "https://www.investopedia.com/terms/forex/j/jmd-jamaican-dollar.asp",
         "j md jamaican dollar what it is how it works history",
         "what is j md jamaican dollar",
         "True"
        ],
        [
         "36",
         "job lot",
         "https://www.investopedia.com/terms/j/joblot.asp",
         "job lot",
         "what is a job lot",
         "True"
        ],
        [
         "37",
         "job market",
         "https://www.investopedia.com/terms/j/job-market.asp",
         "job market definition measurement example",
         "what is the job market",
         "True"
        ],
        [
         "38",
         "job openings and labor turnover survey jolts",
         "https://www.investopedia.com/terms/j/jolts.asp",
         "job openings and labor turnover survey jolts meaning overview",
         "what is the job openings and labor turnover survey jolts",
         "True"
        ],
        [
         "39",
         "jobber",
         "https://www.investopedia.com/terms/j/jobber.asp",
         "jobber definition role and history of stock jobbing",
         "what is a jobber",
         "True"
        ],
        [
         "40",
         "jobless claims",
         "https://www.investopedia.com/terms/j/jobless-claims.asp",
         "jobless claims and the market why they matter",
         "what are jobless claims",
         "True"
        ],
        [
         "41",
         "jobless recovery",
         "https://www.investopedia.com/terms/j/jobless-recovery.asp",
         "jobless recovery what it is how it works example",
         "what is jobless recovery",
         "True"
        ],
        [
         "42",
         "jobs and growth tax relief reconciliation act of 2003 jg tr ra",
         "https://www.investopedia.com/terms/j/jgtrra.asp",
         "jobs and growth tax relief reconciliation act of 2003 jg tr ra overview",
         "what is jg tr ra",
         "True"
        ],
        [
         "43",
         "jobs growth",
         "https://www.investopedia.com/terms/j/jobsgrowth.asp",
         "jobs growth overview and applications",
         "what is jobs growth",
         "True"
        ],
        [
         "44",
         "job seeker s allowance jsa",
         "https://www.investopedia.com/terms/j/job-seekers-allowance-jsa.asp",
         "job seeker s allowance jsa meaning types faq s",
         "what is the job seeker s allowance jsa",
         "True"
        ],
        [
         "45",
         "johannesburg inter bank average rate ji bar",
         "https://www.investopedia.com/terms/j/jibarrate.asp",
         "johannesburg inter bank average rate ji bar in south africa",
         "what is the johannesburg inter bank average rate ji bar",
         "True"
        ],
        [
         "46",
         "john b taylor",
         "https://www.investopedia.com/terms/j/john-b-taylor.asp",
         "john b taylor",
         "who is john b taylor",
         "True"
        ],
        [
         "47",
         "john b ogle",
         "https://www.investopedia.com/terms/j/john_bogle.asp",
         "who was john b ogle vanguard founder father of indexing",
         "early life and education",
         "True"
        ],
        [
         "48",
         "john el kann",
         "https://www.investopedia.com/terms/j/john-elkann.asp",
         "john el kann early life and education accomplishments faq s",
         "early life and education",
         "True"
        ],
        [
         "49",
         "john f nash jr",
         "https://www.investopedia.com/terms/j/john-f-nash-jr.asp",
         "john f nash jr education accomplishments legacy",
         "early life and education",
         "True"
        ],
        [
         "50",
         "john maynard keynes",
         "https://www.investopedia.com/terms/j/john_maynard_keynes.asp",
         "who was john maynard keynes what is keynesian economics",
         "education and early career",
         "True"
        ],
        [
         "51",
         "john r hicks",
         "https://www.investopedia.com/terms/j/john-r-hicks.asp",
         "john r hicks early life accomplishments legacy",
         "early life and education",
         "True"
        ]
       ],
       "shape": {
        "columns": 5,
        "rows": 108
       }
      },
      "text/html": [
       "<div>\n",
       "<style scoped>\n",
       "    .dataframe tbody tr th:only-of-type {\n",
       "        vertical-align: middle;\n",
       "    }\n",
       "\n",
       "    .dataframe tbody tr th {\n",
       "        vertical-align: top;\n",
       "    }\n",
       "\n",
       "    .dataframe thead th {\n",
       "        text-align: right;\n",
       "    }\n",
       "</style>\n",
       "<table border=\"1\" class=\"dataframe\">\n",
       "  <thead>\n",
       "    <tr style=\"text-align: right;\">\n",
       "      <th></th>\n",
       "      <th>title</th>\n",
       "      <th>link</th>\n",
       "      <th>main_title</th>\n",
       "      <th>question</th>\n",
       "      <th>url_valid</th>\n",
       "    </tr>\n",
       "  </thead>\n",
       "  <tbody>\n",
       "    <tr>\n",
       "      <th>0</th>\n",
       "      <td>j</td>\n",
       "      <td>https://www.investopedia.com/terms/j/j.asp</td>\n",
       "      <td>j what this nasdaq designation means</td>\n",
       "      <td>what is j</td>\n",
       "      <td>True</td>\n",
       "    </tr>\n",
       "    <tr>\n",
       "      <th>1</th>\n",
       "      <td>j curve</td>\n",
       "      <td>https://www.investopedia.com/terms/j/jcurve.asp</td>\n",
       "      <td>j curve theory uses and example</td>\n",
       "      <td>what is a j curve</td>\n",
       "      <td>True</td>\n",
       "    </tr>\n",
       "    <tr>\n",
       "      <th>2</th>\n",
       "      <td>j curve effect</td>\n",
       "      <td>https://www.investopedia.com/terms/j/j-curve-e...</td>\n",
       "      <td>j curve definition and uses in economics and p...</td>\n",
       "      <td>what is a j curve</td>\n",
       "      <td>True</td>\n",
       "    </tr>\n",
       "    <tr>\n",
       "      <th>3</th>\n",
       "      <td>jack welch</td>\n",
       "      <td>https://www.investopedia.com/terms/j/jack-welc...</td>\n",
       "      <td>who is jack welch</td>\n",
       "      <td>early life and education</td>\n",
       "      <td>True</td>\n",
       "    </tr>\n",
       "    <tr>\n",
       "      <th>4</th>\n",
       "      <td>jackpot</td>\n",
       "      <td>https://www.investopedia.com/terms/j/jackpot.asp</td>\n",
       "      <td>jackpot what it is how it works consequences</td>\n",
       "      <td>what is a jackpot</td>\n",
       "      <td>True</td>\n",
       "    </tr>\n",
       "    <tr>\n",
       "      <th>...</th>\n",
       "      <td>...</td>\n",
       "      <td>...</td>\n",
       "      <td>...</td>\n",
       "      <td>...</td>\n",
       "      <td>...</td>\n",
       "    </tr>\n",
       "    <tr>\n",
       "      <th>105</th>\n",
       "      <td>just compensation</td>\n",
       "      <td>https://www.investopedia.com/terms/j/just-comp...</td>\n",
       "      <td>just compensation overview factors methods</td>\n",
       "      <td>what is just compensation</td>\n",
       "      <td>True</td>\n",
       "    </tr>\n",
       "    <tr>\n",
       "      <th>106</th>\n",
       "      <td>just in case ji c</td>\n",
       "      <td>https://www.investopedia.com/terms/j/jic.asp</td>\n",
       "      <td>just in case ji c what it is how it works exam...</td>\n",
       "      <td>what is just in case ji c</td>\n",
       "      <td>True</td>\n",
       "    </tr>\n",
       "    <tr>\n",
       "      <th>107</th>\n",
       "      <td>just in time j it</td>\n",
       "      <td>https://www.investopedia.com/terms/j/jit.asp</td>\n",
       "      <td>just in time j it definition example pros and ...</td>\n",
       "      <td>what is just in time j it</td>\n",
       "      <td>True</td>\n",
       "    </tr>\n",
       "    <tr>\n",
       "      <th>108</th>\n",
       "      <td>just say no defense</td>\n",
       "      <td>https://www.investopedia.com/terms/j/just-say-...</td>\n",
       "      <td>just say no defense meaning example criticism</td>\n",
       "      <td>what is a just say no defense</td>\n",
       "      <td>True</td>\n",
       "    </tr>\n",
       "    <tr>\n",
       "      <th>109</th>\n",
       "      <td>justified wage</td>\n",
       "      <td>https://www.investopedia.com/terms/j/justified...</td>\n",
       "      <td>justified wage what it means how it works and ...</td>\n",
       "      <td>what is a justified wage</td>\n",
       "      <td>True</td>\n",
       "    </tr>\n",
       "  </tbody>\n",
       "</table>\n",
       "<p>108 rows × 5 columns</p>\n",
       "</div>"
      ],
      "text/plain": [
       "                   title                                               link  \\\n",
       "0                      j         https://www.investopedia.com/terms/j/j.asp   \n",
       "1                j curve    https://www.investopedia.com/terms/j/jcurve.asp   \n",
       "2         j curve effect  https://www.investopedia.com/terms/j/j-curve-e...   \n",
       "3             jack welch  https://www.investopedia.com/terms/j/jack-welc...   \n",
       "4                jackpot   https://www.investopedia.com/terms/j/jackpot.asp   \n",
       "..                   ...                                                ...   \n",
       "105    just compensation  https://www.investopedia.com/terms/j/just-comp...   \n",
       "106    just in case ji c       https://www.investopedia.com/terms/j/jic.asp   \n",
       "107    just in time j it       https://www.investopedia.com/terms/j/jit.asp   \n",
       "108  just say no defense  https://www.investopedia.com/terms/j/just-say-...   \n",
       "109       justified wage  https://www.investopedia.com/terms/j/justified...   \n",
       "\n",
       "                                            main_title  \\\n",
       "0                 j what this nasdaq designation means   \n",
       "1                      j curve theory uses and example   \n",
       "2    j curve definition and uses in economics and p...   \n",
       "3                                    who is jack welch   \n",
       "4         jackpot what it is how it works consequences   \n",
       "..                                                 ...   \n",
       "105         just compensation overview factors methods   \n",
       "106  just in case ji c what it is how it works exam...   \n",
       "107  just in time j it definition example pros and ...   \n",
       "108      just say no defense meaning example criticism   \n",
       "109  justified wage what it means how it works and ...   \n",
       "\n",
       "                          question  url_valid  \n",
       "0                        what is j       True  \n",
       "1                what is a j curve       True  \n",
       "2                what is a j curve       True  \n",
       "3         early life and education       True  \n",
       "4                what is a jackpot       True  \n",
       "..                             ...        ...  \n",
       "105      what is just compensation       True  \n",
       "106      what is just in case ji c       True  \n",
       "107      what is just in time j it       True  \n",
       "108  what is a just say no defense       True  \n",
       "109       what is a justified wage       True  \n",
       "\n",
       "[108 rows x 5 columns]"
      ]
     },
     "execution_count": 25,
     "metadata": {},
     "output_type": "execute_result"
    }
   ],
   "source": [
    "df"
   ]
  },
  {
   "cell_type": "code",
   "execution_count": 24,
   "metadata": {},
   "outputs": [],
   "source": [
    "df = df.drop(columns=['unnamed: 0'])"
   ]
  },
  {
   "cell_type": "code",
   "execution_count": 26,
   "metadata": {},
   "outputs": [],
   "source": [
    "import wordninja\n",
    "\n",
    "#defining function to apply Word Ninja \n",
    "def split_concatenated_words(column):\n",
    "    return column.apply(lambda x: ' '.join(wordninja.split(x)))\n",
    "\n",
    "#applying the splitting function\n",
    "df['title'] = split_concatenated_words(df['title'])\n",
    "df['main_title'] = split_concatenated_words(df['main_title'])\n",
    "df['question'] = split_concatenated_words(df['question'])"
   ]
  },
  {
   "cell_type": "code",
   "execution_count": 27,
   "metadata": {},
   "outputs": [
    {
     "name": "stderr",
     "output_type": "stream",
     "text": [
      "[nltk_data] Downloading package punkt to\n",
      "[nltk_data]     C:\\Users\\Admin\\AppData\\Roaming\\nltk_data...\n",
      "[nltk_data]   Package punkt is already up-to-date!\n"
     ]
    },
    {
     "data": {
      "text/plain": [
       "True"
      ]
     },
     "execution_count": 27,
     "metadata": {},
     "output_type": "execute_result"
    }
   ],
   "source": [
    "import nltk\n",
    "from nltk.tokenize import word_tokenize \n",
    "\n",
    "nltk.download('punkt')"
   ]
  },
  {
   "cell_type": "code",
   "execution_count": 28,
   "metadata": {},
   "outputs": [],
   "source": [
    "def tokenize_column(text):\n",
    "    return word_tokenize(text)  # Tokenizes the input text into words\n",
    "\n",
    "# Apply tokenization to each column\n",
    "df['title'] = df['title'].apply(tokenize_column)\n",
    "df['main_title'] = df['main_title'].apply(tokenize_column)\n",
    "df['question'] = df['question'].apply(tokenize_column)"
   ]
  },
  {
   "cell_type": "code",
   "execution_count": 29,
   "metadata": {},
   "outputs": [
    {
     "data": {
      "application/vnd.microsoft.datawrangler.viewer.v0+json": {
       "columns": [
        {
         "name": "index",
         "rawType": "int64",
         "type": "integer"
        },
        {
         "name": "title",
         "rawType": "object",
         "type": "unknown"
        },
        {
         "name": "link",
         "rawType": "object",
         "type": "string"
        },
        {
         "name": "main_title",
         "rawType": "object",
         "type": "unknown"
        },
        {
         "name": "question",
         "rawType": "object",
         "type": "unknown"
        },
        {
         "name": "url_valid",
         "rawType": "bool",
         "type": "boolean"
        }
       ],
       "conversionMethod": "pd.DataFrame",
       "ref": "bb85acfe-bed6-440e-977b-9456bb9a0342",
       "rows": [
        [
         "0",
         "['j']",
         "https://www.investopedia.com/terms/j/j.asp",
         "['j', 'what', 'this', 'nasdaq', 'designation', 'means']",
         "['what', 'is', 'j']",
         "True"
        ],
        [
         "1",
         "['j', 'curve']",
         "https://www.investopedia.com/terms/j/jcurve.asp",
         "['j', 'curve', 'theory', 'uses', 'and', 'example']",
         "['what', 'is', 'a', 'j', 'curve']",
         "True"
        ],
        [
         "2",
         "['j', 'curve', 'effect']",
         "https://www.investopedia.com/terms/j/j-curve-effect.asp",
         "['j', 'curve', 'definition', 'and', 'uses', 'in', 'economics', 'and', 'private', 'equity']",
         "['what', 'is', 'a', 'j', 'curve']",
         "True"
        ],
        [
         "3",
         "['jack', 'welch']",
         "https://www.investopedia.com/terms/j/jack-welch.asp",
         "['who', 'is', 'jack', 'welch']",
         "['early', 'life', 'and', 'education']",
         "True"
        ],
        [
         "4",
         "['jackpot']",
         "https://www.investopedia.com/terms/j/jackpot.asp",
         "['jackpot', 'what', 'it', 'is', 'how', 'it', 'works', 'consequences']",
         "['what', 'is', 'a', 'jackpot']",
         "True"
        ],
        [
         "5",
         "['jackson', 'hole', 'economic', 'symposium']",
         "https://www.investopedia.com/terms/j/jackson-hole-symposium.asp",
         "['jackson', 'hole', 'economic', 'symposium', 'definition', 'and', 'why', 'is', 'it', 'important']",
         "['what', 'is', 'the', 'jackson', 'hole', 'economic', 'symposium']",
         "True"
        ],
        [
         "6",
         "['jakarta', 'stock', 'exchange']",
         "https://www.investopedia.com/terms/j/jakartastockexchange.asp",
         "['indonesia', 'stock', 'exchange', 'i', 'dx', 'what', 'it', 'is', 'how', 'it', 'works']",
         "['what', 'is', 'the', 'indonesia', 'stock', 'exchange', 'i', 'dx']",
         "True"
        ],
        [
         "7",
         "['james', 'h', 'clark']",
         "https://www.investopedia.com/terms/j/james-h-clark.asp",
         "['james', 'h', 'clark', 'education', 'accomplishments', 'philanthropy']",
         "['early', 'life', 'and', 'education']",
         "True"
        ],
        [
         "8",
         "['james', 'm', 'buchanan', 'jr']",
         "https://www.investopedia.com/terms/j/james-m-buchanan-jr.asp",
         "['james', 'm', 'buchanan', 'early', 'life', 'education', 'works']",
         "['early', 'life', 'and', 'education']",
         "True"
        ],
        [
         "9",
         "['james', 'tobin']",
         "https://www.investopedia.com/terms/j/james-tobin.asp",
         "['james', 'tobin', 'early', 'life', 'public', 'service', 'work']",
         "['early', 'life', 'and', 'education']",
         "True"
        ],
        [
         "10",
         "['jan', 'tinbergen']",
         "https://www.investopedia.com/terms/j/jan-tinbergen.asp",
         "['jan', 'tinbergen', 'early', 'life', 'education', 'accomplishments']",
         "['early', 'life', 'and', 'education']",
         "True"
        ],
        [
         "11",
         "['january', 'barometer']",
         "https://www.investopedia.com/terms/j/januarybarometer.asp",
         "['january', 'barometer', 'what', 'it', 'is', 'how', 'it', 'works', 'example']",
         "['what', 'is', 'the', 'january', 'barometer']",
         "True"
        ],
        [
         "12",
         "['january', 'effect']",
         "https://www.investopedia.com/terms/j/januaryeffect.asp",
         "['january', 'effect', 'what', 'it', 'is', 'in', 'the', 'stock', 'market', 'possible', 'causes']",
         "['understanding', 'the', 'january', 'effect']",
         "True"
        ],
        [
         "13",
         "['japan', 'association', 'of', 'securities', 'dealers', 'automated', 'quotation']",
         "https://www.investopedia.com/terms/j/jasdaq.asp",
         "['japan', 'association', 'of', 'securities', 'dealers', 'automated', 'quotation', 'j', 'asda', 'q', 'defined']",
         "['what', 'was', 'the', 'japan', 'association', 'of', 'securities', 'dealers', 'automated', 'quotation', 'j', 'asda', 'q']",
         "True"
        ],
        [
         "14",
         "['japan', 'credit', 'rating', 'agency', 'j', 'cr']",
         "https://www.investopedia.com/terms/j/japan-credit-rating-agency.asp",
         "['japan', 'credit', 'rating', 'agency', 'j', 'cr', 'meaning', 'resp', 'on', 'sibi', 'lites']",
         "['what', 'is', 'the', 'japan', 'credit', 'rating', 'agency', 'j', 'cr']",
         "True"
        ],
        [
         "15",
         "['japan', 'et', 'f']",
         "https://www.investopedia.com/terms/j/japan_etf.asp",
         "['japan', 'et', 'f', 'definition']",
         "['what', 'is', 'a', 'japan', 'et', 'f']",
         "True"
        ],
        [
         "16",
         "['japan', 'inc']",
         "https://www.investopedia.com/terms/j/japaninc.asp",
         "['japan', 'inc', 'what', 'it', 'is', 'how', 'it', 'works', 'history']",
         "['what', 'is', 'japan', 'inc']",
         "True"
        ],
        [
         "17",
         "['japanese', 'government', 'bond', 'j', 'gb']",
         "https://www.investopedia.com/terms/j/jgb.asp",
         "['japanese', 'government', 'bond', 'j', 'gb', 'overview', 'examples', 'in', 'bonds']",
         "['what', 'is', 'a', 'japanese', 'government', 'bond', 'j', 'gb']",
         "True"
        ],
        [
         "19",
         "['japanese', 'yen', 'jpy']",
         "https://www.investopedia.com/terms/forex/j/jpy-japanese-yen.asp",
         "['jpy', 'japanese', 'yen', 'definition', 'symbol', 'history', 'trading']",
         "['what', 'is', 'jpy', 'japanese', 'yen']",
         "True"
        ],
        [
         "20",
         "['jarrow', 'turnbull', 'model']",
         "https://www.investopedia.com/terms/j/jarrowturnbull.asp",
         "['jarrow', 'turnbull', 'model', 'what', 'it', 'is', 'how', 'it', 'works']",
         "['what', 'is', 'the', 'jarrow', 'turnbull', 'model']",
         "True"
        ],
        [
         "21",
         "['jay', 'z']",
         "https://www.investopedia.com/articles/investing/012715/5-richest-people-world.asp",
         "['the', '10', 'richest', 'people', 'in', 'the', 'world']",
         "['1', 'el', 'on', 'musk']",
         "True"
        ],
        [
         "22",
         "['jean', 'baptiste', 'say']",
         "https://www.investopedia.com/terms/j/jean-baptiste-say.asp",
         "['jean', 'baptiste', 'say', 'history', 'of', 'the', 'economist']",
         "['early', 'life', 'and', 'education']",
         "True"
        ],
        [
         "23",
         "['jekyll', 'and', 'hyde']",
         "https://www.investopedia.com/terms/j/jekyllhyde.asp",
         "['jekyll', 'and', 'hyde']",
         "['what', 'is', 'jekyll', 'and', 'hyde']",
         "True"
        ],
        [
         "24",
         "['jensen', 's', 'measure']",
         "https://www.investopedia.com/terms/j/jensensmeasure.asp",
         "['what', 'is', 'jensen', 's', 'measure', 'alpha', 'and', 'how', 'is', 'it', 'calculated']",
         "['what', 'is', 'the', 'jensen', 's', 'measure']",
         "True"
        ],
        [
         "25",
         "['jerome', 'ker', 'viel']",
         "https://www.investopedia.com/terms/j/jerome-kerveil.asp",
         "['jerome', 'ker', 'viel', 'history', 'and', 'work', 'with', 'derivatives']",
         "['who', 'is', 'jerome', 'ker', 'viel']",
         "True"
        ],
        [
         "26",
         "['jerry', 'a', 'haus', 'man']",
         "https://www.investopedia.com/terms/j/jerry-a-hausman.asp",
         "['jerry', 'a', 'haus', 'man']",
         "['who', 'is', 'jerry', 'a', 'haus', 'man']",
         "True"
        ],
        [
         "27",
         "['jesse', 'h', 'jones', 'graduate', 'school', 'of', 'business']",
         "https://www.investopedia.com/terms/j/jesse-h-jones-graduate-school-of-business-rice-university.asp",
         "['jesse', 'h', 'jones', 'graduate', 'school', 'of', 'business']",
         "['what', 'is', 'the', 'jesse', 'h', 'jones', 'graduate', 'school', 'of', 'business']",
         "True"
        ],
        [
         "28",
         "['jesse', 'l', 'livermore']",
         "https://www.investopedia.com/terms/j/jesse-l-livermore.asp",
         "['jesse', 'l', 'livermore', 'education', 'stock', 'trading', 'nickname']",
         "['early', 'life', 'and', 'education']",
         "True"
        ],
        [
         "29",
         "['jewelry', 'floater']",
         "https://www.investopedia.com/terms/j/jewelry-floater.asp",
         "['jewelry', 'floater', 'what', 'is', 'it', 'and', 'how', 'does', 'it', 'work', 'with', 'insurance']",
         "['what', 'is', 'a', 'jewelry', 'floater']",
         "True"
        ],
        [
         "30",
         "['jim', 'cramer', 'james', 'cramer']",
         "https://www.investopedia.com/articles/personal-finance/081315/jim-cramer-success-story-net-worth-education-top-quotes.asp",
         "['who', 'is', 'jim', 'cramer']",
         "['early', 'life', 'and', 'education']",
         "True"
        ],
        [
         "31",
         "['jim', 'walton']",
         "https://www.investopedia.com/terms/j/jim-walton.asp",
         "['jim', 'walton', 'early', 'life', 'and', 'education', 'walmart', 'philanthropy']",
         "['early', 'life', 'and', 'education']",
         "True"
        ],
        [
         "32",
         "['jitney']",
         "https://www.investopedia.com/terms/j/jitney.asp",
         "['jitney', 'what', 'it', 'is', 'how', 'it', 'works', 'example']",
         "['what', 'is', 'a', 'jitney']",
         "True"
        ],
        [
         "33",
         "['j', 'it', 'ter']",
         "https://www.investopedia.com/terms/j/jitter.asp",
         "['j', 'it', 'ter']",
         "['what', 'is', 'j', 'it', 'ter']",
         "True"
        ],
        [
         "34",
         "['j', 'md', 'jamaican', 'dollar']",
         "https://www.investopedia.com/terms/forex/j/jmd-jamaican-dollar.asp",
         "['j', 'md', 'jamaican', 'dollar', 'what', 'it', 'is', 'how', 'it', 'works', 'history']",
         "['what', 'is', 'j', 'md', 'jamaican', 'dollar']",
         "True"
        ],
        [
         "36",
         "['job', 'lot']",
         "https://www.investopedia.com/terms/j/joblot.asp",
         "['job', 'lot']",
         "['what', 'is', 'a', 'job', 'lot']",
         "True"
        ],
        [
         "37",
         "['job', 'market']",
         "https://www.investopedia.com/terms/j/job-market.asp",
         "['job', 'market', 'definition', 'measurement', 'example']",
         "['what', 'is', 'the', 'job', 'market']",
         "True"
        ],
        [
         "38",
         "['job', 'openings', 'and', 'labor', 'turnover', 'survey', 'jolts']",
         "https://www.investopedia.com/terms/j/jolts.asp",
         "['job', 'openings', 'and', 'labor', 'turnover', 'survey', 'jolts', 'meaning', 'overview']",
         "['what', 'is', 'the', 'job', 'openings', 'and', 'labor', 'turnover', 'survey', 'jolts']",
         "True"
        ],
        [
         "39",
         "['jobber']",
         "https://www.investopedia.com/terms/j/jobber.asp",
         "['jobber', 'definition', 'role', 'and', 'history', 'of', 'stock', 'jobbing']",
         "['what', 'is', 'a', 'jobber']",
         "True"
        ],
        [
         "40",
         "['jobless', 'claims']",
         "https://www.investopedia.com/terms/j/jobless-claims.asp",
         "['jobless', 'claims', 'and', 'the', 'market', 'why', 'they', 'matter']",
         "['what', 'are', 'jobless', 'claims']",
         "True"
        ],
        [
         "41",
         "['jobless', 'recovery']",
         "https://www.investopedia.com/terms/j/jobless-recovery.asp",
         "['jobless', 'recovery', 'what', 'it', 'is', 'how', 'it', 'works', 'example']",
         "['what', 'is', 'jobless', 'recovery']",
         "True"
        ],
        [
         "42",
         "['jobs', 'and', 'growth', 'tax', 'relief', 'reconciliation', 'act', 'of', '2003', 'jg', 'tr', 'ra']",
         "https://www.investopedia.com/terms/j/jgtrra.asp",
         "['jobs', 'and', 'growth', 'tax', 'relief', 'reconciliation', 'act', 'of', '2003', 'jg', 'tr', 'ra', 'overview']",
         "['what', 'is', 'jg', 'tr', 'ra']",
         "True"
        ],
        [
         "43",
         "['jobs', 'growth']",
         "https://www.investopedia.com/terms/j/jobsgrowth.asp",
         "['jobs', 'growth', 'overview', 'and', 'applications']",
         "['what', 'is', 'jobs', 'growth']",
         "True"
        ],
        [
         "44",
         "['job', 'seeker', 's', 'allowance', 'jsa']",
         "https://www.investopedia.com/terms/j/job-seekers-allowance-jsa.asp",
         "['job', 'seeker', 's', 'allowance', 'jsa', 'meaning', 'types', 'faq', 's']",
         "['what', 'is', 'the', 'job', 'seeker', 's', 'allowance', 'jsa']",
         "True"
        ],
        [
         "45",
         "['johannesburg', 'inter', 'bank', 'average', 'rate', 'ji', 'bar']",
         "https://www.investopedia.com/terms/j/jibarrate.asp",
         "['johannesburg', 'inter', 'bank', 'average', 'rate', 'ji', 'bar', 'in', 'south', 'africa']",
         "['what', 'is', 'the', 'johannesburg', 'inter', 'bank', 'average', 'rate', 'ji', 'bar']",
         "True"
        ],
        [
         "46",
         "['john', 'b', 'taylor']",
         "https://www.investopedia.com/terms/j/john-b-taylor.asp",
         "['john', 'b', 'taylor']",
         "['who', 'is', 'john', 'b', 'taylor']",
         "True"
        ],
        [
         "47",
         "['john', 'b', 'ogle']",
         "https://www.investopedia.com/terms/j/john_bogle.asp",
         "['who', 'was', 'john', 'b', 'ogle', 'vanguard', 'founder', 'father', 'of', 'indexing']",
         "['early', 'life', 'and', 'education']",
         "True"
        ],
        [
         "48",
         "['john', 'el', 'kann']",
         "https://www.investopedia.com/terms/j/john-elkann.asp",
         "['john', 'el', 'kann', 'early', 'life', 'and', 'education', 'accomplishments', 'faq', 's']",
         "['early', 'life', 'and', 'education']",
         "True"
        ],
        [
         "49",
         "['john', 'f', 'nash', 'jr']",
         "https://www.investopedia.com/terms/j/john-f-nash-jr.asp",
         "['john', 'f', 'nash', 'jr', 'education', 'accomplishments', 'legacy']",
         "['early', 'life', 'and', 'education']",
         "True"
        ],
        [
         "50",
         "['john', 'maynard', 'keynes']",
         "https://www.investopedia.com/terms/j/john_maynard_keynes.asp",
         "['who', 'was', 'john', 'maynard', 'keynes', 'what', 'is', 'keynesian', 'economics']",
         "['education', 'and', 'early', 'career']",
         "True"
        ],
        [
         "51",
         "['john', 'r', 'hicks']",
         "https://www.investopedia.com/terms/j/john-r-hicks.asp",
         "['john', 'r', 'hicks', 'early', 'life', 'accomplishments', 'legacy']",
         "['early', 'life', 'and', 'education']",
         "True"
        ]
       ],
       "shape": {
        "columns": 5,
        "rows": 108
       }
      },
      "text/html": [
       "<div>\n",
       "<style scoped>\n",
       "    .dataframe tbody tr th:only-of-type {\n",
       "        vertical-align: middle;\n",
       "    }\n",
       "\n",
       "    .dataframe tbody tr th {\n",
       "        vertical-align: top;\n",
       "    }\n",
       "\n",
       "    .dataframe thead th {\n",
       "        text-align: right;\n",
       "    }\n",
       "</style>\n",
       "<table border=\"1\" class=\"dataframe\">\n",
       "  <thead>\n",
       "    <tr style=\"text-align: right;\">\n",
       "      <th></th>\n",
       "      <th>title</th>\n",
       "      <th>link</th>\n",
       "      <th>main_title</th>\n",
       "      <th>question</th>\n",
       "      <th>url_valid</th>\n",
       "    </tr>\n",
       "  </thead>\n",
       "  <tbody>\n",
       "    <tr>\n",
       "      <th>0</th>\n",
       "      <td>[j]</td>\n",
       "      <td>https://www.investopedia.com/terms/j/j.asp</td>\n",
       "      <td>[j, what, this, nasdaq, designation, means]</td>\n",
       "      <td>[what, is, j]</td>\n",
       "      <td>True</td>\n",
       "    </tr>\n",
       "    <tr>\n",
       "      <th>1</th>\n",
       "      <td>[j, curve]</td>\n",
       "      <td>https://www.investopedia.com/terms/j/jcurve.asp</td>\n",
       "      <td>[j, curve, theory, uses, and, example]</td>\n",
       "      <td>[what, is, a, j, curve]</td>\n",
       "      <td>True</td>\n",
       "    </tr>\n",
       "    <tr>\n",
       "      <th>2</th>\n",
       "      <td>[j, curve, effect]</td>\n",
       "      <td>https://www.investopedia.com/terms/j/j-curve-e...</td>\n",
       "      <td>[j, curve, definition, and, uses, in, economic...</td>\n",
       "      <td>[what, is, a, j, curve]</td>\n",
       "      <td>True</td>\n",
       "    </tr>\n",
       "    <tr>\n",
       "      <th>3</th>\n",
       "      <td>[jack, welch]</td>\n",
       "      <td>https://www.investopedia.com/terms/j/jack-welc...</td>\n",
       "      <td>[who, is, jack, welch]</td>\n",
       "      <td>[early, life, and, education]</td>\n",
       "      <td>True</td>\n",
       "    </tr>\n",
       "    <tr>\n",
       "      <th>4</th>\n",
       "      <td>[jackpot]</td>\n",
       "      <td>https://www.investopedia.com/terms/j/jackpot.asp</td>\n",
       "      <td>[jackpot, what, it, is, how, it, works, conseq...</td>\n",
       "      <td>[what, is, a, jackpot]</td>\n",
       "      <td>True</td>\n",
       "    </tr>\n",
       "    <tr>\n",
       "      <th>...</th>\n",
       "      <td>...</td>\n",
       "      <td>...</td>\n",
       "      <td>...</td>\n",
       "      <td>...</td>\n",
       "      <td>...</td>\n",
       "    </tr>\n",
       "    <tr>\n",
       "      <th>105</th>\n",
       "      <td>[just, compensation]</td>\n",
       "      <td>https://www.investopedia.com/terms/j/just-comp...</td>\n",
       "      <td>[just, compensation, overview, factors, methods]</td>\n",
       "      <td>[what, is, just, compensation]</td>\n",
       "      <td>True</td>\n",
       "    </tr>\n",
       "    <tr>\n",
       "      <th>106</th>\n",
       "      <td>[just, in, case, ji, c]</td>\n",
       "      <td>https://www.investopedia.com/terms/j/jic.asp</td>\n",
       "      <td>[just, in, case, ji, c, what, it, is, how, it,...</td>\n",
       "      <td>[what, is, just, in, case, ji, c]</td>\n",
       "      <td>True</td>\n",
       "    </tr>\n",
       "    <tr>\n",
       "      <th>107</th>\n",
       "      <td>[just, in, time, j, it]</td>\n",
       "      <td>https://www.investopedia.com/terms/j/jit.asp</td>\n",
       "      <td>[just, in, time, j, it, definition, example, p...</td>\n",
       "      <td>[what, is, just, in, time, j, it]</td>\n",
       "      <td>True</td>\n",
       "    </tr>\n",
       "    <tr>\n",
       "      <th>108</th>\n",
       "      <td>[just, say, no, defense]</td>\n",
       "      <td>https://www.investopedia.com/terms/j/just-say-...</td>\n",
       "      <td>[just, say, no, defense, meaning, example, cri...</td>\n",
       "      <td>[what, is, a, just, say, no, defense]</td>\n",
       "      <td>True</td>\n",
       "    </tr>\n",
       "    <tr>\n",
       "      <th>109</th>\n",
       "      <td>[justified, wage]</td>\n",
       "      <td>https://www.investopedia.com/terms/j/justified...</td>\n",
       "      <td>[justified, wage, what, it, means, how, it, wo...</td>\n",
       "      <td>[what, is, a, justified, wage]</td>\n",
       "      <td>True</td>\n",
       "    </tr>\n",
       "  </tbody>\n",
       "</table>\n",
       "<p>108 rows × 5 columns</p>\n",
       "</div>"
      ],
      "text/plain": [
       "                        title  \\\n",
       "0                         [j]   \n",
       "1                  [j, curve]   \n",
       "2          [j, curve, effect]   \n",
       "3               [jack, welch]   \n",
       "4                   [jackpot]   \n",
       "..                        ...   \n",
       "105      [just, compensation]   \n",
       "106   [just, in, case, ji, c]   \n",
       "107   [just, in, time, j, it]   \n",
       "108  [just, say, no, defense]   \n",
       "109         [justified, wage]   \n",
       "\n",
       "                                                  link  \\\n",
       "0           https://www.investopedia.com/terms/j/j.asp   \n",
       "1      https://www.investopedia.com/terms/j/jcurve.asp   \n",
       "2    https://www.investopedia.com/terms/j/j-curve-e...   \n",
       "3    https://www.investopedia.com/terms/j/jack-welc...   \n",
       "4     https://www.investopedia.com/terms/j/jackpot.asp   \n",
       "..                                                 ...   \n",
       "105  https://www.investopedia.com/terms/j/just-comp...   \n",
       "106       https://www.investopedia.com/terms/j/jic.asp   \n",
       "107       https://www.investopedia.com/terms/j/jit.asp   \n",
       "108  https://www.investopedia.com/terms/j/just-say-...   \n",
       "109  https://www.investopedia.com/terms/j/justified...   \n",
       "\n",
       "                                            main_title  \\\n",
       "0          [j, what, this, nasdaq, designation, means]   \n",
       "1               [j, curve, theory, uses, and, example]   \n",
       "2    [j, curve, definition, and, uses, in, economic...   \n",
       "3                               [who, is, jack, welch]   \n",
       "4    [jackpot, what, it, is, how, it, works, conseq...   \n",
       "..                                                 ...   \n",
       "105   [just, compensation, overview, factors, methods]   \n",
       "106  [just, in, case, ji, c, what, it, is, how, it,...   \n",
       "107  [just, in, time, j, it, definition, example, p...   \n",
       "108  [just, say, no, defense, meaning, example, cri...   \n",
       "109  [justified, wage, what, it, means, how, it, wo...   \n",
       "\n",
       "                                  question  url_valid  \n",
       "0                            [what, is, j]       True  \n",
       "1                  [what, is, a, j, curve]       True  \n",
       "2                  [what, is, a, j, curve]       True  \n",
       "3            [early, life, and, education]       True  \n",
       "4                   [what, is, a, jackpot]       True  \n",
       "..                                     ...        ...  \n",
       "105         [what, is, just, compensation]       True  \n",
       "106      [what, is, just, in, case, ji, c]       True  \n",
       "107      [what, is, just, in, time, j, it]       True  \n",
       "108  [what, is, a, just, say, no, defense]       True  \n",
       "109         [what, is, a, justified, wage]       True  \n",
       "\n",
       "[108 rows x 5 columns]"
      ]
     },
     "execution_count": 29,
     "metadata": {},
     "output_type": "execute_result"
    }
   ],
   "source": [
    "df"
   ]
  },
  {
   "cell_type": "code",
   "execution_count": 30,
   "metadata": {},
   "outputs": [],
   "source": [
    "df.to_csv('cleaned_investopedia_data.csv', index=False)"
   ]
  }
 ],
 "metadata": {
  "kernelspec": {
   "display_name": "myenv",
   "language": "python",
   "name": "python3"
  },
  "language_info": {
   "codemirror_mode": {
    "name": "ipython",
    "version": 3
   },
   "file_extension": ".py",
   "mimetype": "text/x-python",
   "name": "python",
   "nbconvert_exporter": "python",
   "pygments_lexer": "ipython3",
   "version": "3.13.1"
  }
 },
 "nbformat": 4,
 "nbformat_minor": 2
}
